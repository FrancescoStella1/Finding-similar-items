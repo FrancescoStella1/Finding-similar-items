{
  "nbformat": 4,
  "nbformat_minor": 0,
  "metadata": {
    "colab": {
      "name": "similar_items_project.ipynb",
      "provenance": [],
      "collapsed_sections": []
    },
    "kernelspec": {
      "name": "python3",
      "display_name": "Python 3"
    },
    "language_info": {
      "name": "python"
    }
  },
  "cells": [
    {
      "cell_type": "markdown",
      "source": [
        "# **Initialization**"
      ],
      "metadata": {
        "id": "JUIvBE0nXDh3"
      }
    },
    {
      "cell_type": "code",
      "source": [
        "from google.colab import drive\n",
        "drive.mount('/content/drive')"
      ],
      "metadata": {
        "colab": {
          "base_uri": "https://localhost:8080/"
        },
        "id": "KP7nlqrbOXKI",
        "outputId": "ef258bbd-0e1f-4c9d-cd37-8feb30422142"
      },
      "execution_count": null,
      "outputs": [
        {
          "output_type": "stream",
          "name": "stdout",
          "text": [
            "Mounted at /content/drive\n"
          ]
        }
      ]
    },
    {
      "cell_type": "markdown",
      "source": [
        "### Download and extract Spark, then install required dependencies"
      ],
      "metadata": {
        "id": "sfmD29i8PcHf"
      }
    },
    {
      "cell_type": "code",
      "execution_count": null,
      "metadata": {
        "colab": {
          "base_uri": "https://localhost:8080/"
        },
        "id": "vq3IhHsrKtZY",
        "outputId": "8b56e1fe-2bf7-4b7d-9073-695bf2f3bf69"
      },
      "outputs": [
        {
          "output_type": "stream",
          "name": "stdout",
          "text": [
            "Collecting findspark\n",
            "  Downloading findspark-2.0.1-py2.py3-none-any.whl (4.4 kB)\n",
            "Installing collected packages: findspark\n",
            "Successfully installed findspark-2.0.1\n",
            "Collecting pyspark\n",
            "  Downloading pyspark-3.2.1.tar.gz (281.4 MB)\n",
            "\u001b[K     |████████████████████████████████| 281.4 MB 35 kB/s \n",
            "\u001b[?25hCollecting py4j==0.10.9.3\n",
            "  Downloading py4j-0.10.9.3-py2.py3-none-any.whl (198 kB)\n",
            "\u001b[K     |████████████████████████████████| 198 kB 50.4 MB/s \n",
            "\u001b[?25hBuilding wheels for collected packages: pyspark\n",
            "  Building wheel for pyspark (setup.py) ... \u001b[?25l\u001b[?25hdone\n",
            "  Created wheel for pyspark: filename=pyspark-3.2.1-py2.py3-none-any.whl size=281853642 sha256=b6661928aae7927ef708113ea99d141bacdd1edcdf5e28d9b18a6c0a0e840c7c\n",
            "  Stored in directory: /root/.cache/pip/wheels/9f/f5/07/7cd8017084dce4e93e84e92efd1e1d5334db05f2e83bcef74f\n",
            "Successfully built pyspark\n",
            "Installing collected packages: py4j, pyspark\n",
            "Successfully installed py4j-0.10.9.3 pyspark-3.2.1\n"
          ]
        }
      ],
      "source": [
        "!wget -q https://www-eu.apache.org/dist/spark/spark-3.2.1/spark-3.2.1-bin-hadoop2.7.tgz\n",
        "!tar xf spark-3.2.1-bin-hadoop2.7.tgz\n",
        "!rm spark-3.2.1-bin-hadoop2.7.tgz\n",
        "!apt-get install openjdk-8-jdk-headless -qq > /dev/null\n",
        "!pip install findspark\n",
        "!pip install pyspark"
      ]
    },
    {
      "cell_type": "markdown",
      "source": [
        "### Download dataset through Kaggle API"
      ],
      "metadata": {
        "id": "8LufyVPDTUFH"
      }
    },
    {
      "cell_type": "code",
      "source": [
        "%cd /content/drive/MyDrive/Unimi/AMD/\n",
        "!mkdir ~/.kaggle/\n",
        "!cp APIs/kaggle.json ~/.kaggle/\n",
        "\n",
        "import os\n",
        "import kaggle\n",
        "import zipfile\n",
        "\n",
        "from kaggle.api.kaggle_api_extended import KaggleApi\n",
        "\n",
        "\n",
        "os.environ[\"DATASET_DIR\"] = \"/content/drive/MyDrive/Unimi/AMD/dataset\"\n",
        "\n",
        "api = KaggleApi()\n",
        "api.authenticate()\n",
        "if not os.path.exists(os.environ[\"DATASET_DIR\"]):\n",
        "  os.makedirs(os.environ[\"DATASET_DIR\"])\n",
        "\n",
        "if \"Questions.csv\" not in os.listdir(os.environ[\"DATASET_DIR\"]):\n",
        "  if \"Questions.csv.zip\" not in os.listdir(os.environ[\"DATASET_DIR\"]):\n",
        "    api.dataset_download_file(\"stackoverflow/stacksample\", file_name=\"Questions.csv\", path=os.environ[\"DATASET_DIR\"])\n",
        "  with zipfile.ZipFile(os.path.join(os.environ[\"DATASET_DIR\"], \"Questions.csv.zip\"), 'r') as f:\n",
        "    f.extractall(os.environ[\"DATASET_DIR\"])\n",
        "  os.remove(os.path.join(os.environ[\"DATASET_DIR\"], \"Questions.csv.zip\"))\n"
      ],
      "metadata": {
        "colab": {
          "base_uri": "https://localhost:8080/"
        },
        "id": "fQzMgzHLTYIu",
        "outputId": "8e452ee3-bf09-4ec8-b943-3863003a1965"
      },
      "execution_count": null,
      "outputs": [
        {
          "output_type": "stream",
          "name": "stdout",
          "text": [
            "/content/drive/MyDrive/Unimi/AMD\n"
          ]
        }
      ]
    },
    {
      "cell_type": "code",
      "source": [
        "%ls /content/spark-3.2.1-bin-hadoop2.7/"
      ],
      "metadata": {
        "colab": {
          "base_uri": "https://localhost:8080/"
        },
        "id": "ySp44FMSRWmD",
        "outputId": "31eb3a55-5169-4e3a-cdec-8dcfc8f686be"
      },
      "execution_count": null,
      "outputs": [
        {
          "output_type": "stream",
          "name": "stdout",
          "text": [
            "\u001b[0m\u001b[01;34mbin\u001b[0m/   \u001b[01;34mdata\u001b[0m/      \u001b[01;34mjars\u001b[0m/        LICENSE    NOTICE   \u001b[01;34mR\u001b[0m/         RELEASE  \u001b[01;34myarn\u001b[0m/\n",
            "\u001b[01;34mconf\u001b[0m/  \u001b[01;34mexamples\u001b[0m/  \u001b[01;34mkubernetes\u001b[0m/  \u001b[01;34mlicenses\u001b[0m/  \u001b[01;34mpython\u001b[0m/  README.md  \u001b[01;34msbin\u001b[0m/\n"
          ]
        }
      ]
    },
    {
      "cell_type": "markdown",
      "source": [
        "### Set environment paths and create a Spark session"
      ],
      "metadata": {
        "id": "G9Z7HkHzQCpd"
      }
    },
    {
      "cell_type": "code",
      "source": [
        "%cd ~/\n",
        "import findspark\n",
        "import pyspark\n",
        "from pyspark.sql import SparkSession\n",
        "\n",
        "os.environ[\"JAVA_HOME\"] = \"/usr/lib/jvm/java-8-openjdk-amd64\"\n",
        "os.environ[\"SPARK_HOME\"] = \"/content/spark-3.2.1-bin-hadoop2.7\"\n",
        "\n",
        "\n",
        "findspark.init(findspark.find())\n",
        "spark = SparkSession.builder.master(\"local\").appName(\"Colab\").getOrCreate()\n",
        "spark"
      ],
      "metadata": {
        "id": "zAH1WeNmPuJZ",
        "colab": {
          "base_uri": "https://localhost:8080/",
          "height": 237
        },
        "outputId": "a165501f-faa5-467e-bcfa-74bb127be770"
      },
      "execution_count": null,
      "outputs": [
        {
          "output_type": "stream",
          "name": "stdout",
          "text": [
            "/root\n"
          ]
        },
        {
          "output_type": "execute_result",
          "data": {
            "text/html": [
              "\n",
              "            <div>\n",
              "                <p><b>SparkSession - in-memory</b></p>\n",
              "                \n",
              "        <div>\n",
              "            <p><b>SparkContext</b></p>\n",
              "\n",
              "            <p><a href=\"http://1bee51e91508:4040\">Spark UI</a></p>\n",
              "\n",
              "            <dl>\n",
              "              <dt>Version</dt>\n",
              "                <dd><code>v3.2.1</code></dd>\n",
              "              <dt>Master</dt>\n",
              "                <dd><code>local</code></dd>\n",
              "              <dt>AppName</dt>\n",
              "                <dd><code>Colab</code></dd>\n",
              "            </dl>\n",
              "        </div>\n",
              "        \n",
              "            </div>\n",
              "        "
            ],
            "text/plain": [
              "<pyspark.sql.session.SparkSession at 0x7efc5d605550>"
            ]
          },
          "metadata": {},
          "execution_count": 4
        }
      ]
    },
    {
      "cell_type": "markdown",
      "source": [
        "Now we can adjust some options in order to correctly read the schema and then read a sample of the dataset."
      ],
      "metadata": {
        "id": "Fcw5EasUkDuA"
      }
    },
    {
      "cell_type": "code",
      "source": [
        "df_reader = spark.read \\\n",
        "  .option(\"escape\", '\"') \\\n",
        "  .option(\"header\", True) \\\n",
        "  .option(\"multiline\", True) \\\n",
        "  .option(\"quote\", '\"') \\\n",
        "  .csv(os.environ[\"DATASET_DIR\"])\n",
        "df_reader.printSchema()   # print schema"
      ],
      "metadata": {
        "colab": {
          "base_uri": "https://localhost:8080/"
        },
        "id": "IectwmFISq3Y",
        "outputId": "164efc7b-5fd1-4cfc-cc92-9bc8b9b74abd"
      },
      "execution_count": null,
      "outputs": [
        {
          "output_type": "stream",
          "name": "stdout",
          "text": [
            "root\n",
            " |-- Id: string (nullable = true)\n",
            " |-- OwnerUserId: string (nullable = true)\n",
            " |-- CreationDate: string (nullable = true)\n",
            " |-- ClosedDate: string (nullable = true)\n",
            " |-- Score: string (nullable = true)\n",
            " |-- Title: string (nullable = true)\n",
            " |-- Body: string (nullable = true)\n",
            "\n"
          ]
        }
      ]
    },
    {
      "cell_type": "code",
      "source": [
        "df = df_reader.select(*['Id', 'Body', 'Title']).sample(fraction=1e-2, seed=1)\n",
        "print(\"Sampled records: \", df.count())"
      ],
      "metadata": {
        "colab": {
          "base_uri": "https://localhost:8080/"
        },
        "id": "GHw1a0D0muFH",
        "outputId": "125d970f-21f8-45de-87d2-3d3a3c905b39"
      },
      "execution_count": null,
      "outputs": [
        {
          "output_type": "stream",
          "name": "stdout",
          "text": [
            "Sampled records:  12611\n"
          ]
        }
      ]
    },
    {
      "cell_type": "markdown",
      "source": [
        "# **Preprocessing**"
      ],
      "metadata": {
        "id": "iSproxv4W4aa"
      }
    },
    {
      "cell_type": "markdown",
      "source": [
        "## Spark Structured APIs for preprocessing"
      ],
      "metadata": {
        "id": "tH4jfqNvIebC"
      }
    },
    {
      "cell_type": "markdown",
      "source": [
        "Now we can perform some preprocessing in order to obtain textual data in a proper format. Since Stack Overflow questions may contain both text in natural language and text in possibly any programming language, we should keep in mind this fact and separate those parts. In this way we can perform comparisons between the natural language, which should be more reliable.\n",
        "Here, the use of regex and Spark's Structured API is crucial since we need efficient and distributed computations."
      ],
      "metadata": {
        "id": "PxfAXGBVQkaX"
      }
    },
    {
      "cell_type": "code",
      "source": [
        "from pyspark.sql.functions import col, regexp_extract, regexp_replace\n",
        "\n",
        "df.show(n=15, truncate=False)\n",
        "# Extract code parts from Body\n",
        "df_filt = df.withColumn('Body_code', \n",
        "                   regexp_extract('Body', '<code>[\\S\\s]*?</code>', 0))\n",
        "\n",
        "# Remove code parts from Body\n",
        "df_filt = df_filt.withColumn('Body_cleaned', \n",
        "                   regexp_replace('Body', '<code>[\\S\\s]*?</code>', ''))\n",
        "\n",
        "\n",
        "# Remove code tags from code parts\n",
        "'''\n",
        "df_filt = df_filt.withColumn('Body_code', \n",
        "                   regexp_replace('Body_code', '(<code>[\\S\\s]*?)|(</code>)', ''))\n",
        "'''\n",
        "df_filt = df_filt.drop('Body').withColumnRenamed('Body_cleaned', 'Body')\n",
        "df_filt.show(n=15, truncate=False)\n"
      ],
      "metadata": {
        "id": "0GwxOQLOIkhj",
        "colab": {
          "base_uri": "https://localhost:8080/"
        },
        "outputId": "fe194f26-2833-4fb2-820e-98698561f12c"
      },
      "execution_count": null,
      "outputs": [
        {
          "output_type": "stream",
          "name": "stdout",
          "text": [
            "+------+-------------------------------------------------------------------------------------------------------------------------------------------------------------------------------------------------------------------------------------------------------------------------------------------------------------------------------------------------------------------------------------------------------------------------------------------------------------------------------------------------------------------------------------------------------------------------------------------------------------------------------------------------------------------------------------------------------------------------------------------------------------------------------------------------------------------------------------------------------------------------------------------------------------------------------------------------------------------------------------------------------------------------------------------------------------------------------------------------------------------------------------------------------------------------------------------------------------------------------------------------------------------------------------------------------------------------------------------------------------------------------------------------------------------------------------------------------------------------------------------------------------------------------------------------------------------------------------------------------------------------------------------------------------------------------------------------+--------------------------------------------------------------------------------------------+\n",
            "|Id    |Body                                                                                                                                                                                                                                                                                                                                                                                                                                                                                                                                                                                                                                                                                                                                                                                                                                                                                                                                                                                                                                                                                                                                                                                                                                                                                                                                                                                                                                                                                                                                                                                                                                                                                             |Title                                                                                       |\n",
            "+------+-------------------------------------------------------------------------------------------------------------------------------------------------------------------------------------------------------------------------------------------------------------------------------------------------------------------------------------------------------------------------------------------------------------------------------------------------------------------------------------------------------------------------------------------------------------------------------------------------------------------------------------------------------------------------------------------------------------------------------------------------------------------------------------------------------------------------------------------------------------------------------------------------------------------------------------------------------------------------------------------------------------------------------------------------------------------------------------------------------------------------------------------------------------------------------------------------------------------------------------------------------------------------------------------------------------------------------------------------------------------------------------------------------------------------------------------------------------------------------------------------------------------------------------------------------------------------------------------------------------------------------------------------------------------------------------------------+--------------------------------------------------------------------------------------------+\n",
            "|10230 |<p>Which is more efficient for the compiler and the best practice for checking whether a string is blank? </p>\\n\\n<ol>\\n<li>Checking whether the length of the string == 0</li>\\n<li>Checking whether the string is empty (strVar == \"\")</li>\\n</ol>\\n\\n<p>Also, does the answer depend on language?</p>\\n                                                                                                                                                                                                                                                                                                                                                                                                                                                                                                                                                                                                                                                                                                                                                                                                                                                                                                                                                                                                                                                                                                                                                                                                                                                                                                                                                                                       |Checking for string contents? string Length Vs Empty String                                 |\n",
            "|10260 |<p>I've kept up to date with new features in the C# language as it's moved from version 1 through version 3.  I haven't done such a good job keeping up to date with ASP.NET.  I feel like some of the post version 1 features are not so good (e.g. the AJAX framework) or are just not that useful to me (e.g. the membership framework).  Can anyone recommend any new killer ASP.NET features that might have gone unnoticed?</p>\\n                                                                                                                                                                                                                                                                                                                                                                                                                                                                                                                                                                                                                                                                                                                                                                                                                                                                                                                                                                                                                                                                                                                                                                                                                                                          |What are the useful new ASP.NET features in the .NET Framework 3.5?                         |\n",
            "|17770 |<p>What do the clever programmers here do to keep track of handy programming tricks and useful information they pick up over their many years of experience? Things like useful compiler arguments, IDE short-cuts, clever code snippets, etc.</p>\\n\\n<p>I sometimes find myself frustrated when looking up something that I used to know a year or two ago. My IE favourites probably represent a good chunk of the Internet in the late 1990s, so clearly that isn't effective (at least for me). Or am I just getting old?</p>\\n\\n<p>So.. what do you do?</p>\\n                                                                                                                                                                                                                                                                                                                                                                                                                                                                                                                                                                                                                                                                                                                                                                                                                                                                                                                                                                                                                                                                                                                               |Tracking Useful Information                                                                 |\n",
            "|22980 |<p>I'm using Intridea's <a href=\"http://www.intridea.com/2008/2/29/acts-as-readable-drop-in-mark-as-read-functionality\">Acts as Readable</a> Rails plugin for a messaging system I'm currently building.\\nI've defined my message class accordingly:</p>\\n\\n<pre><code>class Post &lt; ActiveRecord::Base\\n  acts-as-readable\\nend\\n</code></pre>\\n\\n<p>And everything seems to be working according to plan, but when trying to execute to show unread messages in my message view, I'm running into problems.</p>\\n\\n<p>Their example: (I've changed underscores to hyphens due to formatting issues)</p>\\n\\n<pre><code>bob = User.find_by_name(\"bob\")\\n\\nbob.readings                      # =&gt; []\\n\\nPost.find_unread_by(bob)          # =&gt; [&lt;Post 1&gt;,&lt;Post 2&gt;,&lt;Post 3&gt;...]\\nPost.find_read_by(bob)            # =&gt; []\\n\\nPost.find(1).read_by?(bob)        # =&gt; false\\nPost.find(1).read_by!(bob)        # =&gt; &lt;Reading 1&gt;\\nPost.find(1).read_by?(bob)        # =&gt; true\\nPost.find(1).users_who_read       # =&gt; [&lt;User bob&gt;]\\n\\nPost.find_unread_by(bob)          # =&gt; [&lt;Post 2&gt;,&lt;Post 3&gt;...]\\nPost.find_read_by(bob)            # =&gt; [&lt;Post 1&gt;]\\n\\nbob.readings                      # =&gt; [&lt;Reading 1&gt;]\\n</code></pre>\\n\\n<p>So it seems as though if I wanted to list the number of unread messages sitting in a mailbox (for example Inbox (39) ), I should be able to do something like:</p>\\n\\n<pre><code>&lt;%= Post.find_unread_by(current-user).count %&gt;\\n</code></pre>\\n\\n<p>But to no avail.  I always seem to get stuck on the simple view issues after everything's set.\\nAny ideas?</p>\\n|Acts-as-readable Rails plugin Issue                                                         |\n",
            "|25950 |<p>I'm pretty keen to develop my first Ruby app, as my company has finally blessed its use internally.</p>\\n\\n<p>In everything I've read about Ruby up to v1.8, there is never anything positive said about performance, but I've found nothing about version 1.9. The last figures I saw about 1.8 had it drastically slower than just about everything out there, so I'm hoping this was addressed in 1.9.</p>\\n\\n<p>Has performance drastically improved? Are there some concrete things that can be done with Ruby apps (or things to avoid) to keep performance at the best possible level?</p>\\n                                                                                                                                                                                                                                                                                                                                                                                                                                                                                                                                                                                                                                                                                                                                                                                                                                                                                                                                                                                                                                                                                           |Ruby Performance                                                                            |\n",
            "|27030 |<p>I want to compare 2 arrays of objects in JavaScript code.  The objects have 8 total properties, but each object will not have a value for each, and the arrays are never going to be any larger than 8 items each, so maybe the brute force method of traversing each and then looking at the values of the 8 properties is the easiest way to do what I want to do, but before implementing, I wanted to see if anyone had a more elegant solution. Any thoughts?</p>\\n                                                                                                                                                                                                                                                                                                                                                                                                                                                                                                                                                                                                                                                                                                                                                                                                                                                                                                                                                                                                                                                                                                                                                                                                                      |Comparing Arrays of Objects in JavaScript                                                   |\n",
            "|27640 |<p>We currently maintain a suit of MFC applications that are fairly well designed, however the user interface is beginning to look tired and a lot of the code is in need quite a bit of refactoring to tidy up some duplication and/or performance problems.  We make use of quite a few custom controls that handle all their own drawing (all written using MFC).</p>\\n\\n<p>Recently I've been doing more research into Qt and the benefits it provides (cross-platform and supports what you might call a more \"professional\" looking framework for UI development).</p>\\n\\n<p>My question is - <strong>what would be the best approach to perhaps moving to the Qt framework</strong>?  Does Qt play nice with MFC?  Would it be better to start porting some of our custom controls to Qt and gradually integrate more and more into our existing MFC apps? (is this possible?).</p>\\n\\n<p>Any advice or previous experience is appreciated.</p>\\n                                                                                                                                                                                                                                                                                                                                                                                                                                                                                                                                                                                                                                                                                                                                         |Integrating Qt into legacy MFC applications                                                 |\n",
            "|35470 |<p>I am starting to use Python (specifically because of Django) and I would like to remove the burden for exhaustive testing by performing some static analysis.  What tools/parameters/etc. exist to detect issues at compile time that would otherwise show up during runtime? (type errors are probably the most obvious case of this, but undefined variables are another big one that could be avoided with an in-depth analysis of the AST.)</p>\\n\\n<p>Obviously testing is important, and I don't imply that tests can be obviated entirely; however, there are many runtime errors in python that are not possible in other languages that perform stricter run-time checking -- I'm hoping that there are tools to bring at least some of these capabilities to python as well.</p>\\n                                                                                                                                                                                                                                                                                                                                                                                                                                                                                                                                                                                                                                                                                                                                                                                                                                                                                                   |Are there static analysis tools for Python?                                                 |\n",
            "|37590 |<p>What tool can I use to convert a .ICO file to a .PNG file?</p>\\n                                                                                                                                                                                                                                                                                                                                                                                                                                                                                                                                                                                                                                                                                                                                                                                                                                                                                                                                                                                                                                                                                                                                                                                                                                                                                                                                                                                                                                                                                                                                                                                                                              |How to convert .ICO to .PNG?                                                                |\n",
            "|52460 |<p>While in the final throws of upgrading MS-SQL Server 2005 Express Edition to MS-SQL Server 2005 Enterprise Edition, I came across this error:</p>\\n\\n<blockquote>\\n  <p>The certificate cannot be dropped because one or more entities are either signed or encrypted using it. To continue, correct the problem...</p>\\n</blockquote>\\n\\n<p>So, <strong>how do I find and decouple the entities signed/encrypted using this certificate so I can delete the certificate and proceed with the upgrade?</strong></p>\\n\\n<p>I'm also kind of expecting/assuming that the upgrade setup will provide a new certificate and re-couple those former entities with it or I'll have to forcibly do so after the setup.</p>\\n                                                                                                                                                                                                                                                                                                                                                                                                                                                                                                                                                                                                                                                                                                                                                                                                                                                                                                                                                                         |How do I find and decouple entities from a certificate when upgrading MS-SQLServer editions?|\n",
            "|60260 |<p>I've been working through <a href=\"http://gigamonkeys.com/book\" rel=\"nofollow\">Practical Common Lisp</a> and as an exercise decided to write a macro to determine if a number is a multiple of another number:</p>\\n\\n<p><code>(defmacro multp (value factor)<br />\\n   `(= (rem ,value ,factor)  0))</code></p>\\n\\n<p>so that :\\n<code>(multp 40 10)</code>\\nevaluates to true whilst\\n<code>(multp 40 13)</code>\\ndoes not </p>\\n\\n<p>The question is does this macro <a href=\"http://gigamonkeys.com/book/macros-defining-your-own.html#plugging-the-leaks\" rel=\"nofollow\">leak</a> in some way?  Also is this \"good\" Lisp?  Is there already an existing function/macro that I could have used?</p>\\n                                                                                                                                                                                                                                                                                                                                                                                                                                                                                                                                                                                                                                                                                                                                                                                                                                                                                                                                                                                     |My first Lisp macro; is it leaky?                                                           |\n",
            "|60360 |<p>What experience can you share about using multiple AJAX libraries?</p>\\n\\n<p>There are useful features in Prototype, some in jQuery, the Yahoo library, etc. Is it possible to include all libraries and use what you want from each, do they generally all play nicely together with name spaces, etc. For the sake of speed is there a practical limit to the size/number of libraries to include or is this negligible? Are there pairs that work particularly well together (e.g. Prototype/Scriptaculous) or pairs that don't?</p>\\n                                                                                                                                                                                                                                                                                                                                                                                                                                                                                                                                                                                                                                                                                                                                                                                                                                                                                                                                                                                                                                                                                                                                                     |What are the best strategies for using multiple AJAX libraries?                             |\n",
            "|65800 |<p>There are many different flavored HTML WYSIWYG editors from javascript to ASP.Net web controls, but all too often the features are the same.  Does anyone have a favorite HTML editor they like to use in projects?  Why?</p>\\n                                                                                                                                                                                                                                                                                                                                                                                                                                                                                                                                                                                                                                                                                                                                                                                                                                                                                                                                                                                                                                                                                                                                                                                                                                                                                                                                                                                                                                                               |What's the best HTML WYSISYG editor available to web developers and why?                    |\n",
            "|70880 |<p>Say I have the following C++:</p>\\n\\n<pre><code>char *p = new char[cb];\\nSOME_STRUCT *pSS = (SOME_STRUCT *) p;\\ndelete pSS;\\n</code></pre>\\n\\n<p>Is this safe according to the C++ standard? Do I need to cast back to a <code>char*</code> and then use <code>delete[]</code>? I know it'll work in most C++ compilers, because it's plain-ordinary-data, with no destructors. Is it guaranteed to be safe?</p>\\n                                                                                                                                                                                                                                                                                                                                                                                                                                                                                                                                                                                                                                                                                                                                                                                                                                                                                                                                                                                                                                                                                                                                                                                                                                                                            |deleting a buffer through a different type of pointer?                                      |\n",
            "|105130|<p>What are the major reasons for using <a href=\"http://en.wikipedia.org/wiki/WinDbg\">WinDbg</a> vs the Visual Studio debugger?</p>\\n\\n<p>And is it commonly used as a complete replacement for the Visual Studio debugger, or more for when the need arises.</p>\\n                                                                                                                                                                                                                                                                                                                                                                                                                                                                                                                                                                                                                                                                                                                                                                                                                                                                                                                                                                                                                                                                                                                                                                                                                                                                                                                                                                                                                              |Why use WinDbg vs the Visual Studio (VS) debugger?                                          |\n",
            "+------+-------------------------------------------------------------------------------------------------------------------------------------------------------------------------------------------------------------------------------------------------------------------------------------------------------------------------------------------------------------------------------------------------------------------------------------------------------------------------------------------------------------------------------------------------------------------------------------------------------------------------------------------------------------------------------------------------------------------------------------------------------------------------------------------------------------------------------------------------------------------------------------------------------------------------------------------------------------------------------------------------------------------------------------------------------------------------------------------------------------------------------------------------------------------------------------------------------------------------------------------------------------------------------------------------------------------------------------------------------------------------------------------------------------------------------------------------------------------------------------------------------------------------------------------------------------------------------------------------------------------------------------------------------------------------------------------------+--------------------------------------------------------------------------------------------+\n",
            "only showing top 15 rows\n",
            "\n",
            "+------+--------------------------------------------------------------------------------------------+------------------------------------------------------------------------------------------+--------------------------------------------------------------------------------------------------------------------------------------------------------------------------------------------------------------------------------------------------------------------------------------------------------------------------------------------------------------------------------------------------------------------------------------------------------------------------------------------------------------------------------------------------------------------------------------------------------------------------------------------------------------------------------------------------------------------------------------------------------------------------------------------------------------------------------------------------------------------------------------------------------------------------------------------------------+\n",
            "|Id    |Title                                                                                       |Body_code                                                                                 |Body                                                                                                                                                                                                                                                                                                                                                                                                                                                                                                                                                                                                                                                                                                                                                                                                                                                                                                                                                    |\n",
            "+------+--------------------------------------------------------------------------------------------+------------------------------------------------------------------------------------------+--------------------------------------------------------------------------------------------------------------------------------------------------------------------------------------------------------------------------------------------------------------------------------------------------------------------------------------------------------------------------------------------------------------------------------------------------------------------------------------------------------------------------------------------------------------------------------------------------------------------------------------------------------------------------------------------------------------------------------------------------------------------------------------------------------------------------------------------------------------------------------------------------------------------------------------------------------+\n",
            "|10230 |Checking for string contents? string Length Vs Empty String                                 |                                                                                          |<p>Which is more efficient for the compiler and the best practice for checking whether a string is blank? </p>\\n\\n<ol>\\n<li>Checking whether the length of the string == 0</li>\\n<li>Checking whether the string is empty (strVar == \"\")</li>\\n</ol>\\n\\n<p>Also, does the answer depend on language?</p>\\n                                                                                                                                                                                                                                                                                                                                                                                                                                                                                                                                                                                                                                              |\n",
            "|10260 |What are the useful new ASP.NET features in the .NET Framework 3.5?                         |                                                                                          |<p>I've kept up to date with new features in the C# language as it's moved from version 1 through version 3.  I haven't done such a good job keeping up to date with ASP.NET.  I feel like some of the post version 1 features are not so good (e.g. the AJAX framework) or are just not that useful to me (e.g. the membership framework).  Can anyone recommend any new killer ASP.NET features that might have gone unnoticed?</p>\\n                                                                                                                                                                                                                                                                                                                                                                                                                                                                                                                 |\n",
            "|17770 |Tracking Useful Information                                                                 |                                                                                          |<p>What do the clever programmers here do to keep track of handy programming tricks and useful information they pick up over their many years of experience? Things like useful compiler arguments, IDE short-cuts, clever code snippets, etc.</p>\\n\\n<p>I sometimes find myself frustrated when looking up something that I used to know a year or two ago. My IE favourites probably represent a good chunk of the Internet in the late 1990s, so clearly that isn't effective (at least for me). Or am I just getting old?</p>\\n\\n<p>So.. what do you do?</p>\\n                                                                                                                                                                                                                                                                                                                                                                                      |\n",
            "|22980 |Acts-as-readable Rails plugin Issue                                                         |<code>class Post &lt; ActiveRecord::Base\\n  acts-as-readable\\nend\\n</code>                |<p>I'm using Intridea's <a href=\"http://www.intridea.com/2008/2/29/acts-as-readable-drop-in-mark-as-read-functionality\">Acts as Readable</a> Rails plugin for a messaging system I'm currently building.\\nI've defined my message class accordingly:</p>\\n\\n<pre></pre>\\n\\n<p>And everything seems to be working according to plan, but when trying to execute to show unread messages in my message view, I'm running into problems.</p>\\n\\n<p>Their example: (I've changed underscores to hyphens due to formatting issues)</p>\\n\\n<pre></pre>\\n\\n<p>So it seems as though if I wanted to list the number of unread messages sitting in a mailbox (for example Inbox (39) ), I should be able to do something like:</p>\\n\\n<pre></pre>\\n\\n<p>But to no avail.  I always seem to get stuck on the simple view issues after everything's set.\\nAny ideas?</p>\\n                                                                                         |\n",
            "|25950 |Ruby Performance                                                                            |                                                                                          |<p>I'm pretty keen to develop my first Ruby app, as my company has finally blessed its use internally.</p>\\n\\n<p>In everything I've read about Ruby up to v1.8, there is never anything positive said about performance, but I've found nothing about version 1.9. The last figures I saw about 1.8 had it drastically slower than just about everything out there, so I'm hoping this was addressed in 1.9.</p>\\n\\n<p>Has performance drastically improved? Are there some concrete things that can be done with Ruby apps (or things to avoid) to keep performance at the best possible level?</p>\\n                                                                                                                                                                                                                                                                                                                                                  |\n",
            "|27030 |Comparing Arrays of Objects in JavaScript                                                   |                                                                                          |<p>I want to compare 2 arrays of objects in JavaScript code.  The objects have 8 total properties, but each object will not have a value for each, and the arrays are never going to be any larger than 8 items each, so maybe the brute force method of traversing each and then looking at the values of the 8 properties is the easiest way to do what I want to do, but before implementing, I wanted to see if anyone had a more elegant solution. Any thoughts?</p>\\n                                                                                                                                                                                                                                                                                                                                                                                                                                                                             |\n",
            "|27640 |Integrating Qt into legacy MFC applications                                                 |                                                                                          |<p>We currently maintain a suit of MFC applications that are fairly well designed, however the user interface is beginning to look tired and a lot of the code is in need quite a bit of refactoring to tidy up some duplication and/or performance problems.  We make use of quite a few custom controls that handle all their own drawing (all written using MFC).</p>\\n\\n<p>Recently I've been doing more research into Qt and the benefits it provides (cross-platform and supports what you might call a more \"professional\" looking framework for UI development).</p>\\n\\n<p>My question is - <strong>what would be the best approach to perhaps moving to the Qt framework</strong>?  Does Qt play nice with MFC?  Would it be better to start porting some of our custom controls to Qt and gradually integrate more and more into our existing MFC apps? (is this possible?).</p>\\n\\n<p>Any advice or previous experience is appreciated.</p>\\n|\n",
            "|35470 |Are there static analysis tools for Python?                                                 |                                                                                          |<p>I am starting to use Python (specifically because of Django) and I would like to remove the burden for exhaustive testing by performing some static analysis.  What tools/parameters/etc. exist to detect issues at compile time that would otherwise show up during runtime? (type errors are probably the most obvious case of this, but undefined variables are another big one that could be avoided with an in-depth analysis of the AST.)</p>\\n\\n<p>Obviously testing is important, and I don't imply that tests can be obviated entirely; however, there are many runtime errors in python that are not possible in other languages that perform stricter run-time checking -- I'm hoping that there are tools to bring at least some of these capabilities to python as well.</p>\\n                                                                                                                                                          |\n",
            "|37590 |How to convert .ICO to .PNG?                                                                |                                                                                          |<p>What tool can I use to convert a .ICO file to a .PNG file?</p>\\n                                                                                                                                                                                                                                                                                                                                                                                                                                                                                                                                                                                                                                                                                                                                                                                                                                                                                     |\n",
            "|52460 |How do I find and decouple entities from a certificate when upgrading MS-SQLServer editions?|                                                                                          |<p>While in the final throws of upgrading MS-SQL Server 2005 Express Edition to MS-SQL Server 2005 Enterprise Edition, I came across this error:</p>\\n\\n<blockquote>\\n  <p>The certificate cannot be dropped because one or more entities are either signed or encrypted using it. To continue, correct the problem...</p>\\n</blockquote>\\n\\n<p>So, <strong>how do I find and decouple the entities signed/encrypted using this certificate so I can delete the certificate and proceed with the upgrade?</strong></p>\\n\\n<p>I'm also kind of expecting/assuming that the upgrade setup will provide a new certificate and re-couple those former entities with it or I'll have to forcibly do so after the setup.</p>\\n                                                                                                                                                                                                                                |\n",
            "|60260 |My first Lisp macro; is it leaky?                                                           |<code>(defmacro multp (value factor)<br />\\n   `(= (rem ,value ,factor)  0))</code>       |<p>I've been working through <a href=\"http://gigamonkeys.com/book\" rel=\"nofollow\">Practical Common Lisp</a> and as an exercise decided to write a macro to determine if a number is a multiple of another number:</p>\\n\\n<p></p>\\n\\n<p>so that :\\n\\nevaluates to true whilst\\n\\ndoes not </p>\\n\\n<p>The question is does this macro <a href=\"http://gigamonkeys.com/book/macros-defining-your-own.html#plugging-the-leaks\" rel=\"nofollow\">leak</a> in some way?  Also is this \"good\" Lisp?  Is there already an existing function/macro that I could have used?</p>\\n                                                                                                                                                                                                                                                                                                                                                                                   |\n",
            "|60360 |What are the best strategies for using multiple AJAX libraries?                             |                                                                                          |<p>What experience can you share about using multiple AJAX libraries?</p>\\n\\n<p>There are useful features in Prototype, some in jQuery, the Yahoo library, etc. Is it possible to include all libraries and use what you want from each, do they generally all play nicely together with name spaces, etc. For the sake of speed is there a practical limit to the size/number of libraries to include or is this negligible? Are there pairs that work particularly well together (e.g. Prototype/Scriptaculous) or pairs that don't?</p>\\n                                                                                                                                                                                                                                                                                                                                                                                                            |\n",
            "|65800 |What's the best HTML WYSISYG editor available to web developers and why?                    |                                                                                          |<p>There are many different flavored HTML WYSIWYG editors from javascript to ASP.Net web controls, but all too often the features are the same.  Does anyone have a favorite HTML editor they like to use in projects?  Why?</p>\\n                                                                                                                                                                                                                                                                                                                                                                                                                                                                                                                                                                                                                                                                                                                      |\n",
            "|70880 |deleting a buffer through a different type of pointer?                                      |<code>char *p = new char[cb];\\nSOME_STRUCT *pSS = (SOME_STRUCT *) p;\\ndelete pSS;\\n</code>|<p>Say I have the following C++:</p>\\n\\n<pre></pre>\\n\\n<p>Is this safe according to the C++ standard? Do I need to cast back to a  and then use ? I know it'll work in most C++ compilers, because it's plain-ordinary-data, with no destructors. Is it guaranteed to be safe?</p>\\n                                                                                                                                                                                                                                                                                                                                                                                                                                                                                                                                                                                                                                                                    |\n",
            "|105130|Why use WinDbg vs the Visual Studio (VS) debugger?                                          |                                                                                          |<p>What are the major reasons for using <a href=\"http://en.wikipedia.org/wiki/WinDbg\">WinDbg</a> vs the Visual Studio debugger?</p>\\n\\n<p>And is it commonly used as a complete replacement for the Visual Studio debugger, or more for when the need arises.</p>\\n                                                                                                                                                                                                                                                                                                                                                                                                                                                                                                                                                                                                                                                                                     |\n",
            "+------+--------------------------------------------------------------------------------------------+------------------------------------------------------------------------------------------+--------------------------------------------------------------------------------------------------------------------------------------------------------------------------------------------------------------------------------------------------------------------------------------------------------------------------------------------------------------------------------------------------------------------------------------------------------------------------------------------------------------------------------------------------------------------------------------------------------------------------------------------------------------------------------------------------------------------------------------------------------------------------------------------------------------------------------------------------------------------------------------------------------------------------------------------------------+\n",
            "only showing top 15 rows\n",
            "\n"
          ]
        }
      ]
    },
    {
      "cell_type": "code",
      "source": [
        "from pyspark.ml.feature import StopWordsRemover\n",
        "from pyspark.sql.functions import lower\n",
        "\n",
        "englishStopwords = StopWordsRemover.loadDefaultStopWords('english')\n",
        "\n",
        "# Here, match all words excluding punctuation and html delimiters from Body.\n",
        "df_filt2 = df_filt.withColumn('BodyOut', \n",
        "                              regexp_replace('Body', '<[a-z]*>|<[\\/a-z]*>|' \\\n",
        "                                             '[^a-z|^A-Z|^à|^ò|^è|^é|^ù]', \n",
        "                                             ' '))\n",
        "'''\n",
        "df_filt2 = df_filt2.withColumn('Body_code',\n",
        "                               regexp_replace('Body_code', \n",
        "                                              '<[a-z]*>|<[\\/a-z]*>|\\.|\\,|;|!|'\\\n",
        "                                              '[^a-z|^A-Z]',\n",
        "                                              ' '))\n",
        "'''\n",
        "df_filt2 = df_filt2.drop('Body')\n",
        "\n",
        "# Create regex from stopwords\n",
        "stopwords_regex = '\\\\b)|(\\\\b'.join(englishStopwords)\n",
        "stopwords_regex = '(\\\\b' + stopwords_regex + '\\\\b)' + '|(\\\\b[a-z]{1}\\\\b)'\n",
        "\n",
        "# Remove stopwords from Body\n",
        "df_filt2 = df_filt2.withColumn('BodyOut', lower(col('BodyOut')))\n",
        "df_filt2 = df_filt2.withColumn('BodyOut', regexp_replace('BodyOut',\n",
        "                                                      stopwords_regex,\n",
        "                                                      ''))\n",
        "df_filt2 = df_filt2.drop('Body_code')\n",
        "df_filt2.select(*['Id', 'BodyOut']).show(n=10, truncate=False)\n"
      ],
      "metadata": {
        "id": "vjeZGbZrRWHX",
        "colab": {
          "base_uri": "https://localhost:8080/"
        },
        "outputId": "61719ec0-777c-4427-8c07-f1db706ff005"
      },
      "execution_count": null,
      "outputs": [
        {
          "output_type": "stream",
          "name": "stdout",
          "text": [
            "+-----+-----------------------------------------------------------------------------------------------------------------------------------------------------------------------------------------------------------------------------------------------------------------------------------------------------------------------------------------------------------------------------------------------------------------------------------------------------------------------------------------------------------------------------------------------------------------------------------------------------------------------------------------------------------------------------------------------+\n",
            "|Id   |BodyOut                                                                                                                                                                                                                                                                                                                                                                                                                                                                                                                                                                                                                                                                                        |\n",
            "+-----+-----------------------------------------------------------------------------------------------------------------------------------------------------------------------------------------------------------------------------------------------------------------------------------------------------------------------------------------------------------------------------------------------------------------------------------------------------------------------------------------------------------------------------------------------------------------------------------------------------------------------------------------------------------------------------------------------+\n",
            "|10230|    efficient   compiler   best practice  checking whether  string  blank        checking whether  length   string        checking whether  string  empty  strvar             also    answer depend  language                                                                                                                                                                                                                                                                                                                                                                                                                                                                                  |\n",
            "|10260|  ve kept   date  new features     language    moved  version    version      haven  done   good job keeping   date  asp net    feel like    post version   features    good      ajax framework       useful        membership framework     anyone recommend  new killer asp net features  might  gone unnoticed                                                                                                                                                                                                                                                                                                                                                                             |\n",
            "|17770|    clever programmers    keep track  handy programming tricks  useful information  pick    many years  experience  things like useful compiler arguments  ide short cuts  clever code snippets  etc      sometimes find  frustrated  looking  something   used  know  year  two ago   ie favourites probably represent  good chunk   internet   late        clearly  isn  effective   least         getting old                                                                                                                                                                                                                                                                               |\n",
            "|22980|   using intridea    href  http   www intridea com           acts  readable drop  mark  read functionality  acts  readable  rails plugin   messaging system   currently building   ve defined  message class accordingly          everything seems   working according  plan    trying  execute  show unread messages   message view    running  problems      example    ve changed underscores  hyphens due  formatting issues           seems  though   wanted  list  number  unread messages sitting   mailbox   example inbox            able   something like            avail    always seem  get stuck   simple view issues  everything  set   ideas                                   |\n",
            "|25950|   pretty keen  develop  first ruby app    company  finally blessed  use internally      everything  ve read  ruby          never anything positive said  performance    ve found nothing  version       last figures  saw        drastically slower    everything       hoping   addressed           performance drastically improved     concrete things    done  ruby apps   things  avoid   keep performance   best possible level                                                                                                                                                                                                                                                         |\n",
            "|27030|  want  compare   arrays  objects  javascript code    objects    total properties    object     value      arrays  never going    larger    items    maybe  brute force method  traversing    looking   values     properties   easiest way     want      implementing   wanted  see  anyone    elegant solution   thoughts                                                                                                                                                                                                                                                                                                                                                                    |\n",
            "|27640|  currently maintain  suit  mfc applications   fairly well designed  however  user interface  beginning  look tired   lot   code   need quite  bit  refactoring  tidy   duplication   performance problems    make use  quite   custom controls  handle    drawing   written using mfc      recently  ve    research  qt   benefits  provides  cross platform  supports   might call    professional  looking framework  ui development       question         best approach  perhaps moving   qt framework     qt play nice  mfc      better  start porting    custom controls  qt  gradually integrate      existing mfc apps     possible        advice  previous experience  appreciated   |\n",
            "|35470|   starting  use python  specifically   django     like  remove  burden  exhaustive testing  performing  static analysis    tools parameters etc  exist  detect issues  compile time   otherwise show   runtime   type errors  probably   obvious case     undefined variables  another big one    avoided    depth analysis   ast      obviously testing  important      imply  tests   obviated entirely  however    many runtime errors  python    possible   languages  perform stricter run time checking      hoping    tools  bring  least    capabilities  python  well                                                                                                                |\n",
            "|37590|  tool   use  convert   ico file    png file                                                                                                                                                                                                                                                                                                                                                                                                                                                                                                                                                                                                                                                   |\n",
            "|52460|    final throws  upgrading ms sql server      express edition  ms sql server      enterprise edition   came across  error          certificate   dropped  one   entities  either signed  encrypted using    continue  correct  problem               find  decouple  entities signed encrypted using  certificate    delete  certificate  proceed   upgrade        also kind  expecting assuming   upgrade setup  provide  new certificate  re couple  former entities     ll   forcibly     setup                                                                                                                                                                                            |\n",
            "+-----+-----------------------------------------------------------------------------------------------------------------------------------------------------------------------------------------------------------------------------------------------------------------------------------------------------------------------------------------------------------------------------------------------------------------------------------------------------------------------------------------------------------------------------------------------------------------------------------------------------------------------------------------------------------------------------------------------+\n",
            "only showing top 10 rows\n",
            "\n"
          ]
        }
      ]
    },
    {
      "cell_type": "markdown",
      "source": [
        "# LSH for document similarity"
      ],
      "metadata": {
        "id": "GcjZjY_Zl_OQ"
      }
    },
    {
      "cell_type": "markdown",
      "source": [
        "Here we implement the actual LSH algorithm, in which we compute the k-shingles and then the signatures for the documents. Upon the end, we collect the candidate pairs exceeding the specified threshold related to the Jaccard similarity."
      ],
      "metadata": {
        "id": "fLwd2LdYmKy3"
      }
    },
    {
      "cell_type": "markdown",
      "source": [
        "## Miller-Rabin primality test\n",
        "\n",
        "We should define some functions useful to perform the Miller-Rabin primality test. This test is needed later on since we want the least prime number greater than the greatest hash of the shingles. This allows us to compute the hashes representing the permutations of the shingles.\n",
        "The following implementation is taken from: https://www.geeksforgeeks.org/primality-test-set-3-miller-rabin/"
      ],
      "metadata": {
        "id": "eQunFQsKoKOB"
      }
    },
    {
      "cell_type": "code",
      "source": [
        "# Python3 program Miller-Rabin primality test\n",
        "import random\n",
        "\n",
        "# Utility function to do\n",
        "# modular exponentiation.\n",
        "# It returns (x^y) % p\n",
        "def power(x, y, p):\n",
        "\t\n",
        "\t# Initialize result\n",
        "\tres = 1;\n",
        "\t\n",
        "\t# Update x if it is more than or\n",
        "\t# equal to p\n",
        "\tx = x % p;\n",
        "\twhile (y > 0):\n",
        "\t\t\n",
        "\t\t# If y is odd, multiply\n",
        "\t\t# x with result\n",
        "\t\tif (y & 1):\n",
        "\t\t\tres = (res * x) % p;\n",
        "\n",
        "\t\t# y must be even now\n",
        "\t\ty = y>>1; # y = y/2\n",
        "\t\tx = (x * x) % p;\n",
        "\t\n",
        "\treturn res;\n",
        "\n",
        "# This function is called\n",
        "# for all k trials. It returns\n",
        "# false if n is composite and\n",
        "# returns false if n is\n",
        "# probably prime. d is an odd\n",
        "# number such that d*2<sup>r</sup> = n-1\n",
        "# for some r >= 1\n",
        "def miillerTest(d, n):\n",
        "\t\n",
        "\t# Pick a random number in [2..n-2]\n",
        "\t# Corner cases make sure that n > 4\n",
        "\ta = 2 + random.randint(1, n - 4);\n",
        "\n",
        "\t# Compute a^d % n\n",
        "\tx = power(a, d, n);\n",
        "\n",
        "\tif (x == 1 or x == n - 1):\n",
        "\t\treturn True;\n",
        "\n",
        "\t# Keep squaring x while one\n",
        "\t# of the following doesn't\n",
        "\t# happen\n",
        "\t# (i) d does not reach n-1\n",
        "\t# (ii) (x^2) % n is not 1\n",
        "\t# (iii) (x^2) % n is not n-1\n",
        "\twhile (d != n - 1):\n",
        "\t\tx = (x * x) % n;\n",
        "\t\td *= 2;\n",
        "\n",
        "\t\tif (x == 1):\n",
        "\t\t\treturn False;\n",
        "\t\tif (x == n - 1):\n",
        "\t\t\treturn True;\n",
        "\n",
        "\t# Return composite\n",
        "\treturn False;\n",
        "\n",
        "# It returns false if n is\n",
        "# composite and returns true if n\n",
        "# is probably prime. k is an\n",
        "# input parameter that determines\n",
        "# accuracy level. Higher value of\n",
        "# k indicates more accuracy.\n",
        "def isPrime( n, k):\n",
        "\t\n",
        "\t# Corner cases\n",
        "\tif (n <= 1 or n == 4):\n",
        "\t\treturn False;\n",
        "\tif (n <= 3):\n",
        "\t\treturn True;\n",
        "\n",
        "\t# Find r such that n =\n",
        "\t# 2^d * r + 1 for some r >= 1\n",
        "\td = n - 1;\n",
        "\twhile (d % 2 == 0):\n",
        "\t\td //= 2;\n",
        "\n",
        "\t# Iterate given nber of 'k' times\n",
        "\tfor i in range(k):\n",
        "\t\tif (miillerTest(d, n) == False):\n",
        "\t\t\treturn False;\n",
        "\n",
        "\treturn True;\n",
        "\n"
      ],
      "metadata": {
        "id": "C9cUMsatlK5c"
      },
      "execution_count": null,
      "outputs": []
    },
    {
      "cell_type": "markdown",
      "source": [
        "## K-Shingle extraction and minhashing"
      ],
      "metadata": {
        "id": "axKjeoDmonLE"
      }
    },
    {
      "cell_type": "markdown",
      "source": [
        "We now extract the k-shingles, in which k is set to 6. Then, a sort of pre-hash is applied to all the shingles in order to convert them into a numeric form. After this step, we can apply an arbitrary number of hash functions."
      ],
      "metadata": {
        "id": "pbmfu6Y_l1pW"
      }
    },
    {
      "cell_type": "code",
      "source": [
        "import numpy as np\n",
        "import re\n",
        "from pyspark.sql.functions import collect_set, explode, lit, udf\n",
        "from pyspark.sql.types import ArrayType, IntegerType, LongType, StringType\n",
        "\n",
        "\n",
        "K = 6\n",
        "\n",
        "\n",
        "@udf(returnType=ArrayType(elementType=StringType()))\n",
        "def generate_shingles(bodyCol):\n",
        "    words = re.split(r'[^a-z]+', bodyCol)\n",
        "    v = [' '.join([words[x] for x in range(i, i+K)]) for i in range(1, len(words)-K)]   # shingles from words\n",
        "    return v\n",
        "\n",
        "\n",
        "\n",
        "@udf(returnType=IntegerType())\n",
        "def apply_hash(shingle_id, a, b, n):\n",
        "    shingle_id = (int(a)*shingle_id + int(b)) % int(n)\n",
        "    return shingle_id\n",
        "\n",
        "\n",
        "# Based on the fnv-1 algorithm\n",
        "@udf(returnType=ArrayType(elementType=IntegerType()))\n",
        "def pre_hash(shingles, n):\n",
        "    hashes = []\n",
        "    for s in shingles:\n",
        "        h = 1283\n",
        "        for c in s:\n",
        "            h ^= ord(c)\n",
        "            h *= 233\n",
        "            h %= n\n",
        "        hashes.append(h)\n",
        "    return hashes\n",
        "\n",
        "\n",
        "df_filt2 = df_filt2.withColumn('Shingles', generate_shingles(col('BodyOut')))\n",
        "# df_filt3 = df_filt3.drop('Body_code')\n",
        "df_filt2 = df_filt2.drop('Body_out')\n",
        "df_filt2 = df_filt2.drop('BodyOut')\n",
        "# df_filt3.select('Shingles').show(n=4, truncate=False)\n",
        "n = df_filt2.count()\n",
        "p = n\n",
        "if n%2 == 0:\n",
        "    p = n+1\n",
        "while(not isPrime(p, 20)):\n",
        "    p += 2\n",
        "print(\"Found prime number: \", p)\n",
        "\n",
        "\n",
        "df_filt2 = df_filt2.withColumn('ShingleHashes', pre_hash(col('Shingles'), lit(p)))\n",
        "df_filt2 = df_filt2.drop('Shingles')\n",
        "\n",
        "df_filt2 = df_filt2.withColumn('ShingleID', explode(df_filt2.ShingleHashes))\n",
        "\n",
        "df_filt2 = df_filt2.drop('ShingleHashes')\n",
        "df_filt2.printSchema()\n",
        "\n",
        "a = np.random.randint(1, 30, 12).tolist()\n",
        "b = np.random.randint(1, 30, 12).tolist()\n",
        "\n",
        "for idx in range(len(a)):\n",
        "    df_filt2 = df_filt2.withColumn(f\"H{idx}\", apply_hash(col('ShingleID'), lit(a[idx]), lit(b[idx]), lit(p)))\n",
        "\n",
        "# sig_mat.printSchema()\n",
        "df_filt2.drop('Title').show(n=20, truncate=False)\n"
      ],
      "metadata": {
        "id": "cjgJ0RiLndua",
        "colab": {
          "base_uri": "https://localhost:8080/"
        },
        "outputId": "17e820f9-2485-4c4c-87cf-739bb98eb8aa"
      },
      "execution_count": null,
      "outputs": [
        {
          "output_type": "stream",
          "name": "stdout",
          "text": [
            "Found prime number:  12611\n",
            "root\n",
            " |-- Id: string (nullable = true)\n",
            " |-- Title: string (nullable = true)\n",
            " |-- ShingleID: integer (nullable = true)\n",
            "\n",
            "+-----+---------+-----+-----+-----+-----+-----+-----+-----+-----+-----+-----+-----+-----+\n",
            "|Id   |ShingleID|H0   |H1   |H2   |H3   |H4   |H5   |H6   |H7   |H8   |H9   |H10  |H11  |\n",
            "+-----+---------+-----+-----+-----+-----+-----+-----+-----+-----+-----+-----+-----+-----+\n",
            "|10230|9235     |3008 |515  |7279 |5691 |2302 |507  |5666 |4984 |6581 |6568 |10827|11524|\n",
            "|10230|9221     |2602 |151  |6943 |5453 |2050 |143  |5428 |4900 |6399 |6386 |10715|11258|\n",
            "|10230|10256    |7395 |1839 |6561 |10437|8069 |1831 |10412|11110|7243 |7230 |6384 |5701 |\n",
            "|10230|4707     |10417|8897 |12106|4381 |9075 |8889 |4356 |3038 |10772|10759|12436|1158 |\n",
            "|10230|7174     |6294 |9984 |8259 |8487 |3037 |9976 |8462 |5229 |5010 |4997 |6950 |10198|\n",
            "|10230|9817     |7275 |3036 |8636 |2974 |167  |3028 |2949 |8476 |1536 |1523 |2872 |9971 |\n",
            "|10230|923      |1569 |11401|9567 |3108 |4018 |11393|3083 |5556 |12024|12011|7386 |4928 |\n",
            "|10230|421      |12233|10960|10130|7185 |7593 |10952|7160 |2544 |5498 |5485 |3370 |8001 |\n",
            "|10230|460      |753  |11974|11066|7848 |8295 |11966|7823 |2778 |6005 |5992 |3682 |8742 |\n",
            "|10230|12349    |5037 |5813 |6349 |8185 |7910 |5805 |8160 |11057|9230 |9217 |10517|7635 |\n",
            "|10230|11795    |1582 |4020 |5664 |11378|10549|4012 |11353|7733 |2028 |2015 |6085 |9720 |\n",
            "|10230|991      |3541 |558  |11199|4264 |5242 |550  |4239 |5964 |297  |284  |7930 |6220 |\n",
            "|10230|1436     |3835 |12128|9268 |11829|641  |12120|11804|8634 |6082 |6069 |11490|2064 |\n",
            "|10230|10140    |4031 |11434|3777 |8465 |5981 |11426|8440 |10414|5735 |5722 |5456 |3497 |\n",
            "|10230|10879    |240  |5426 |8902 |8417 |6672 |5418 |8392 |2237 |2731 |2718 |11368|4927 |\n",
            "|10230|2751     |4137 |8485 |2995 |8962 |11700|8477 |8937 |3913 |10566|10553|9399 |1827 |\n",
            "|10260|7341     |11137|1715 |12267|11326|6043 |1707 |11301|6231 |7181 |7168 |8286 |760  |\n",
            "|10260|1382     |2269 |10724|7972 |10911|12280|10716|10886|8310 |5380 |5367 |11058|1038 |\n",
            "|10260|2788     |5210 |9447 |3883 |9591 |12366|9439 |9566 |4135 |11047|11034|9695 |2530 |\n",
            "|10260|778      |9975 |7631 |6087 |643  |1408 |7623 |618  |4686 |10139|10126|6226 |2173 |\n",
            "+-----+---------+-----+-----+-----+-----+-----+-----+-----+-----+-----+-----+-----+-----+\n",
            "only showing top 20 rows\n",
            "\n"
          ]
        }
      ]
    },
    {
      "cell_type": "markdown",
      "source": [
        "## Banding technique and candidate pairs retrieval"
      ],
      "metadata": {
        "id": "Vll1NkviouEW"
      }
    },
    {
      "cell_type": "markdown",
      "source": [
        "We apply the banding technique in order to retrieve the candidate pairs exceeding the threshold."
      ],
      "metadata": {
        "id": "Nq8uV39lnkIe"
      }
    },
    {
      "cell_type": "code",
      "source": [
        "from pyspark.sql import DataFrame, Window\n",
        "from pyspark.sql.functions import min, size\n",
        "from pyspark.sql.types import StructField, StructType\n",
        "\n",
        "BANDS = 3\n",
        "\n",
        "COLS = int(len(a)/BANDS)\n",
        "\n",
        "\n",
        "def get_candidates_naive(mh):\n",
        "    tmp = mh.withColumnRenamed('Id', 'tmpId').select('*')\n",
        "    join_conds = [mh[col].eqNullSafe(tmp[col]) for col in mh.columns[1:]]\n",
        "    cond = join_conds[0]\n",
        "    for c in join_conds[1:]:\n",
        "        cond = cond & c\n",
        "    tmp1 = mh.join(tmp, cond & (mh['Id'] != tmp['tmpId']))\n",
        "    tmp1 = tmp1.groupBy(col('Id')).agg(collect_set('tmpId').alias('Candidates')).select(*['Id', 'Candidates'])\n",
        "    return tmp1\n",
        "\n",
        "\n",
        "def hash_band(band):\n",
        "  \"\"\"Returns a dict containing {hash: docID}.\"\"\"\n",
        "  hval = 17\n",
        "  for i in band[1:]:\n",
        "    hval = (hval * 7) + (i / 5)\n",
        "  return {round(hval): band[0]}\n",
        "    \n",
        "    \n",
        "sig_mat = df_filt2.drop('ShingleID').drop('Title')\n",
        "sig_mat = sig_mat.withColumn('Id', sig_mat.Id.cast(IntegerType()))\n",
        "\n",
        "# sig_mat.show(n=5, truncate=False)\n",
        "\n",
        "for i in range(len(a)):\n",
        "    window = Window.partitionBy('Id').orderBy(f\"H{i}\")\n",
        "    sig_mat = sig_mat.withColumn(f\"minH{i}\", min(f\"H{i}\").over(window)).drop(f\"H{i}\")\n",
        "\n",
        "sig_mat = sig_mat.dropDuplicates()\n",
        "\n",
        "for b in range(BANDS):\n",
        "    band = b * COLS\n",
        "    band_cols = sig_mat.columns[(band + 1):(band + COLS + 1)]\n",
        "    band_cols = ['Id'] + band_cols\n",
        "    bhash = sig_mat.select(band_cols).rdd.map(lambda x: hash_band(x))\\\n",
        "                                     .flatMap(lambda x: x.items())\\\n",
        "                                     .collect()\n",
        "    spark.createDataFrame(data=bhash, schema=StructType([StructField(\"BandHash\",\n",
        "                                                                     LongType(),\n",
        "                                                                     False),\n",
        "                                                         StructField(\"Id\",\n",
        "                                                                    IntegerType(),\n",
        "                                                                    False)\n",
        "                                                        ])).groupBy(\"BandHash\")\\\n",
        "                                                           .agg(collect_set(\"Id\").alias(\"Candidates\"))\\\n",
        "                                                           .where(size(\"Candidates\")>1)\\\n",
        "                                                           .show(10, False)    \n",
        "    #candidates = get_candidates_naive(sig_mat.select(band_cols))\n",
        "    #candidates.show(10, truncate=False)\n"
      ],
      "metadata": {
        "id": "X_PwyTEmnvNr",
        "colab": {
          "base_uri": "https://localhost:8080/"
        },
        "outputId": "8eb7efc5-dd10-40ba-aa20-41e5ae32eb8e"
      },
      "execution_count": null,
      "outputs": [
        {
          "output_type": "stream",
          "name": "stdout",
          "text": [
            "+--------+------------------------------+\n",
            "|BandHash|Candidates                    |\n",
            "+--------+------------------------------+\n",
            "|40996   |[3470900, 18143860]           |\n",
            "|41234   |[36236790, 4114410]           |\n",
            "|41258   |[39834770, 27559540, 14966210]|\n",
            "|41427   |[15973440, 19453430]          |\n",
            "|41446   |[34140240, 12754120]          |\n",
            "|41510   |[18571260, 24636520]          |\n",
            "|41516   |[14574660, 2826710]           |\n",
            "|41592   |[25440940, 21442980]          |\n",
            "|41614   |[15376570, 25795200]          |\n",
            "|41691   |[19534080, 23101180]          |\n",
            "+--------+------------------------------+\n",
            "only showing top 10 rows\n",
            "\n",
            "+--------+-----------------------------+\n",
            "|BandHash|Candidates                   |\n",
            "+--------+-----------------------------+\n",
            "|41301   |[23833670, 5146070]          |\n",
            "|41425   |[11974600, 32418970]         |\n",
            "|41446   |[28416130, 17993010]         |\n",
            "|41501   |[9235790, 27872540, 38834420]|\n",
            "|41638   |[15569960, 3898740]          |\n",
            "|41692   |[39127810, 7510620]          |\n",
            "|41726   |[12007120, 36126760]         |\n",
            "|41761   |[10081850, 4938930]          |\n",
            "|41881   |[29731100, 27571500]         |\n",
            "|41909   |[39804530, 17255080]         |\n",
            "+--------+-----------------------------+\n",
            "only showing top 10 rows\n",
            "\n",
            "+--------+--------------------+\n",
            "|BandHash|Candidates          |\n",
            "+--------+--------------------+\n",
            "|41315   |[9204140, 28193970] |\n",
            "|41349   |[30561570, 17255080]|\n",
            "|41507   |[3915380, 13391370] |\n",
            "|41571   |[26972490, 1848160] |\n",
            "|41624   |[13041340, 26456670]|\n",
            "|41712   |[34800290, 39846930]|\n",
            "|41722   |[21471310, 30045600]|\n",
            "|41771   |[6702980, 14569350] |\n",
            "|41787   |[16053220, 3685120] |\n",
            "|41816   |[9666790, 37434990] |\n",
            "+--------+--------------------+\n",
            "only showing top 10 rows\n",
            "\n"
          ]
        }
      ]
    },
    {
      "cell_type": "markdown",
      "source": [
        "## Visualizing some results"
      ],
      "metadata": {
        "id": "-zO_2xdG59CD"
      }
    },
    {
      "cell_type": "markdown",
      "source": [
        "Some pairs retrieved by using 12 hash functions, with 3 bands and 4 rows for each band. Threshold is approximately 0.76."
      ],
      "metadata": {
        "id": "VdNO9Sxy6FAb"
      }
    },
    {
      "cell_type": "code",
      "source": [
        "### Some candidate pairs retrieved with 3 bands and 12 hash functions\n",
        "df_filt.where((col('Id') == 2065890) | (col('Id') == 8785860)).select(*['Id', 'Title', 'Body'])\\\n",
        "       .show(n=3, truncate=False)\n",
        "\n",
        "df_filt.where((col('Id') == 1416300) | (col('Id') == 19645720)).select(*['Id', 'Title', 'Body'])\\\n",
        "       .show(n=3, truncate=False)\n"
      ],
      "metadata": {
        "colab": {
          "base_uri": "https://localhost:8080/"
        },
        "id": "W329L88ZiB4M",
        "outputId": "b2ddeb67-b5db-4028-9f5f-835ba84fdbb3"
      },
      "execution_count": null,
      "outputs": [
        {
          "output_type": "stream",
          "name": "stdout",
          "text": [
            "+-------+---------------------------------------+------------------------------------------------------------------------------------------------------------------------------------------------------------------------------------------------------------------------------------------------------------------------------------------------------------------------------------------------------------------------------------------------------------------------------------------------------------------------------------------------------------------------------------------------------------------------------------------------------------------------------------------------------------------------------------------------------------------------------------------------------------------------------------------------------------------+\n",
            "|Id     |Title                                  |Body                                                                                                                                                                                                                                                                                                                                                                                                                                                                                                                                                                                                                                                                                                                                                                                                              |\n",
            "+-------+---------------------------------------+------------------------------------------------------------------------------------------------------------------------------------------------------------------------------------------------------------------------------------------------------------------------------------------------------------------------------------------------------------------------------------------------------------------------------------------------------------------------------------------------------------------------------------------------------------------------------------------------------------------------------------------------------------------------------------------------------------------------------------------------------------------------------------------------------------------+\n",
            "|2065890|Flex HTTPService Error                 |<p>I am creating a Flex application and am using an HTTPService to retrieve XML from an asmx web service.  This web service needs one string parameter.  This parameter contains multiple options separated by ~ and parsed apart.  This web service works with a limited length of string, otherwise an error is retrieved if the string is long enough and no xml is retrieved.  However if the web service call is plugged directly into IE, the proper xml is retrieved.  </p>\\n\\n<p>The error:</p>\\n\\n<p>faultCode:Server.Error.Request faultString:'HTTP request error' faultDetail:'Error: [IOErrorEvent type=\"ioError\" bubbles=false cancelable=false eventPhase=2 text=\"Error #2032: Stream Error.</p>\\n\\n<p>I believe the problem is a timeout issue but am unsure how to resolve this.  Any help?</p>\\n|\n",
            "|8785860|PHP Recursive Function Breaks at Return|<p>I've written a recursive function, which generates an organizational diagram by looking at each employees manager. The function works, however I have an issue with values being returned. The code uses two functions, which are both recursive. They are build using the same mindset. </p>\\n\\n<p>My problem lies within function get_top_org, which breaks out of the loop when getting to the first employee, who do not have any employees. The function should continue by mapping all employees for the manager. I can get the function to do this by removing the recursive return (return get_top_org($emp->username, $organisation, $level, $limit);). Then the function will go through all the employees, but returns null. </p>\\n\\n<p>Any help is appreciated!</p>\\n\\n<pre></pre>\\n               |\n",
            "+-------+---------------------------------------+------------------------------------------------------------------------------------------------------------------------------------------------------------------------------------------------------------------------------------------------------------------------------------------------------------------------------------------------------------------------------------------------------------------------------------------------------------------------------------------------------------------------------------------------------------------------------------------------------------------------------------------------------------------------------------------------------------------------------------------------------------------------------------------------------------------+\n",
            "\n",
            "+--------+-------------------------------------------------------+-------------------------------------------------------------------------------------------------------------------------------------------------------------------------------------------------------------------------------------------------------------------------------------------------------------------------------------------------------------------------------------------------------------------------------------------------------------------------------------------------------------------------------------------------------------------------------------------------------------------------------------------------------------------------------------------------------------------------------------------------------------------------------------------------------------------------------------------------------------------------------------------------------------------------------------------------------------------------------------------------------------------------------------+\n",
            "|Id      |Title                                                  |Body                                                                                                                                                                                                                                                                                                                                                                                                                                                                                                                                                                                                                                                                                                                                                                                                                                                                                                                                                                                                                                 |\n",
            "+--------+-------------------------------------------------------+-------------------------------------------------------------------------------------------------------------------------------------------------------------------------------------------------------------------------------------------------------------------------------------------------------------------------------------------------------------------------------------------------------------------------------------------------------------------------------------------------------------------------------------------------------------------------------------------------------------------------------------------------------------------------------------------------------------------------------------------------------------------------------------------------------------------------------------------------------------------------------------------------------------------------------------------------------------------------------------------------------------------------------------+\n",
            "|1416300 |Why does ColorBox does not appear in Internet Explorer?|<p>I am using ColorBox to show details of events on a calendar. \\nThe address to view it is <a href=\"http://www.idea-palette.com/greatoppseventcal/calendar6.php\" rel=\"nofollow\">http://www.idea-palette.com/greatoppseventcal/calendar6.php</a></p>\\n\\n<p>In firefox, when the user clicks on a day with an event, the lightbox opens and displays the event information from the database. </p>\\n\\n<p>In Internet explorer, when the user clicks on a day with an event, the calendar is pushed down and there is a big white empty area above the calendar. When you click on the empty area, the calendar is pushed back up, as if the lightbox appears above the calendar until clicked on to close.</p>\\n\\n<p><hr /></p>\\n\\n<p><strong>Here's the jQuery:</strong></p>\\n\\n<pre></pre>\\n\\n<p><strong>Here's the code for the button that is being clicked and the div that is being displayed:</strong></p>\\n\\n<pre></pre>\\n\\n<p>I am not really sure what to do since It works perfectly in Firefox. Can anybody help me?</p>\\n|\n",
            "|19645720|Trigger a Python function exactly on the minute        |<p>I have a function that I want to trigger at every turn of the minute — at 00 seconds. It fires off a packet over the air to a dumb display that will be mounted on the wall.</p>\\n\\n<p>I know I can brute force it with a while loop but that seems a bit harsh.</p>\\n\\n<p>I have tried using sched but that ends up adding a second every minute.</p>\\n\\n<p>What are my options?</p>\\n                                                                                                                                                                                                                                                                                                                                                                                                                                                                                                                                                                                                                                           |\n",
            "+--------+-------------------------------------------------------+-------------------------------------------------------------------------------------------------------------------------------------------------------------------------------------------------------------------------------------------------------------------------------------------------------------------------------------------------------------------------------------------------------------------------------------------------------------------------------------------------------------------------------------------------------------------------------------------------------------------------------------------------------------------------------------------------------------------------------------------------------------------------------------------------------------------------------------------------------------------------------------------------------------------------------------------------------------------------------------------------------------------------------------+\n",
            "\n"
          ]
        }
      ]
    },
    {
      "cell_type": "markdown",
      "source": [
        "Some pairs retrieved by using 50 hash functions, with 5 bands and 10 rows for each band. Threshold is approximately 0.85."
      ],
      "metadata": {
        "id": "LyEws3Pg6Z9b"
      }
    },
    {
      "cell_type": "code",
      "source": [
        "### Some results retrieved with 5 bands and 50 hashes\n",
        "\n",
        "df_filt.where((col('Id') == 3650800) | (col('Id') == 4677690)).select(*['Id', 'Title', 'Body'])\\\n",
        "       .show(n=3, truncate=False)\n",
        "\n",
        "df_filt.where((col('Id') == 4008990) | (col('Id') == 23859170)).select(*['Id', 'Title', 'Body'])\\\n",
        "       .show(n=3, truncate=False)"
      ],
      "metadata": {
        "id": "5K127hl9ETnJ",
        "colab": {
          "base_uri": "https://localhost:8080/"
        },
        "outputId": "68e5f88c-21c0-446d-d13b-02ead500ef9f"
      },
      "execution_count": null,
      "outputs": [
        {
          "output_type": "stream",
          "name": "stdout",
          "text": [
            "+-------+----------------------------------------------------------------+----------------------------------------------------------------------------------------------------------------------------------------------------------------------------------------------------------------------------------------------------------------------------------------------------------------------------------------------------------------------------------------------------------------------------------------------------------------------------------------------------------------------------------------------------------------------------------------------------------------------------------------------------------------------------------------------------------------------------------------------------------------------------------------------------------------------------------------------------------------------------------------------------------------------------------------------------------------------------------------------------------------------------------------------------------------------------------------------------------+\n",
            "|Id     |Title                                                           |Body                                                                                                                                                                                                                                                                                                                                                                                                                                                                                                                                                                                                                                                                                                                                                                                                                                                                                                                                                                                                                                                                                                      |\n",
            "+-------+----------------------------------------------------------------+----------------------------------------------------------------------------------------------------------------------------------------------------------------------------------------------------------------------------------------------------------------------------------------------------------------------------------------------------------------------------------------------------------------------------------------------------------------------------------------------------------------------------------------------------------------------------------------------------------------------------------------------------------------------------------------------------------------------------------------------------------------------------------------------------------------------------------------------------------------------------------------------------------------------------------------------------------------------------------------------------------------------------------------------------------------------------------------------------------+\n",
            "|3650800|Bind a Command to a Button inside a ListView with Caliburn.Micro|<p>I'm trying to create something like a MDI tabbed Interface so I have a navigation pane (a Listbox) on the left, and a ContentPresenter on the right.</p>\\n\\n<p>I have a ShellViewModel that has a BindableCollection on it called AvailAbleScreens and I managed successfully to bind to that list with a ListViews DataTemplate:</p>\\n\\n<pre></pre>\\n\\n<p>The problem now is that although the Name of the Button is set correctly, I can't make the Command fire for me. \\nOn the MdiViewModel class I have the following code for that button:</p>\\n\\n<pre></pre>\\n\\n<p>All the Caliburn.Micro samples work with binding through conventions to the x:Name Property, but if I remove the Text=\"{Binding}\" it stops working so I suspect that this way of databinding doesn't work for sub-models? </p>\\n\\n<p>Anyway, the Shell's ViewModel is quite simple at the moment:</p>\\n\\n<pre></pre>\\n\\n<p>Any Idea how I'd do this with Caliburn.Micro? Rob Eisenberg suggested to me on Twitter I might want to start out with Caliburn.Micro before going into the full fledged Caliburn framework.</p>\\n|\n",
            "|4677690|Drupal : access restriction on comments                         |<p>I would like to have a restriction mechanism (access restrictions) on the comments that are posted on a node. In my system, all nodes are public. However, I would like the replies to be tied to Organic Groups so that only member of that group can view the reply. ( Ex. Groups could be <strong>'Paid User Group' and 'Free Group'</strong>)</p>\\n\\n<p>Scenario: </p>\\n\\n<p>there is a <strong>forum topic</strong> which is viewable publicly. \\nIt has <strong>three replies</strong>. Two posted publicily and one tied to Paid user group. </p>\\n\\n<p><strong>when a free user logs in he sees the topic and two comments while a paid user sees the topic and all the three comments</strong>. </p>\\n\\n<p>How can this be achived in drupal 6? Will i need to buildmy own permissioning system? </p>\\n\\n<p>thanks</p>\\n                                                                                                                                                                                                                                                                      |\n",
            "+-------+----------------------------------------------------------------+----------------------------------------------------------------------------------------------------------------------------------------------------------------------------------------------------------------------------------------------------------------------------------------------------------------------------------------------------------------------------------------------------------------------------------------------------------------------------------------------------------------------------------------------------------------------------------------------------------------------------------------------------------------------------------------------------------------------------------------------------------------------------------------------------------------------------------------------------------------------------------------------------------------------------------------------------------------------------------------------------------------------------------------------------------------------------------------------------------+\n",
            "\n",
            "+--------+-----------------------------------------------------------------------+---------------------------------------------------------------------------------------------------------------------------------------------------------------------------------------------------------------------------------------------------------------------------------------------------------------------------------------------------------------------------------------------------------------------------------------------------------------------------------------------------------------------------------------------------------------------------------------------------------------------------------------------+\n",
            "|Id      |Title                                                                  |Body                                                                                                                                                                                                                                                                                                                                                                                                                                                                                                                                                                                                                                         |\n",
            "+--------+-----------------------------------------------------------------------+---------------------------------------------------------------------------------------------------------------------------------------------------------------------------------------------------------------------------------------------------------------------------------------------------------------------------------------------------------------------------------------------------------------------------------------------------------------------------------------------------------------------------------------------------------------------------------------------------------------------------------------------+\n",
            "|4008990 |How can I validate a radiobuttongroup in Android?                      |<p>I have a radiobuttongroup in a game app in Android. Before the user can go on to the actual game he has to choose a level, which are three radiobuttons. Now, if the user clicks \"play\" the app crashes. How can I use a validation to see if a button was chosen?</p>\\n\\n<p>I have an edittext also, which I simply use a: if ((editText.getText().toString().equals(\"\")))\\nto see if the user has written a name, but this doesn't work on radiobuttons, or at least my game crashes even when I try to use this type of check. </p>\\n\\n<p>Any help appreciated!</p>\\n                                                                  |\n",
            "|23859170|Waiting for a button click during the execution of a function in Pyside|<p>I have multiple buttons. When I click one of them, I call a function that iterates over rows of a table (say, changes the background colour of the row). During the execution of this function, in the middle of the iteration, I'd like to \"pause\" and wait for <em>another</em> button to be clicked in order to resume the execution of the function. During this \"pause\" I'd like all other buttons (that is, the ones I'm <em>not</em> waiting to be clicked) to be disabled or ignored.</p>\\n\\n<p>I've looked into QTimer and QThread, but I think that I'm unnecessarily over-complicating things. Looking for suggestions...</p>\\n|\n",
            "+--------+-----------------------------------------------------------------------+---------------------------------------------------------------------------------------------------------------------------------------------------------------------------------------------------------------------------------------------------------------------------------------------------------------------------------------------------------------------------------------------------------------------------------------------------------------------------------------------------------------------------------------------------------------------------------------------------------------------------------------------+\n",
            "\n"
          ]
        }
      ]
    }
  ]
}